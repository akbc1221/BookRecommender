{
 "cells": [
  {
   "cell_type": "code",
   "execution_count": 1,
   "id": "removed-sector",
   "metadata": {},
   "outputs": [],
   "source": [
    "import numpy as np\n",
    "import pandas as pd"
   ]
  },
  {
   "cell_type": "code",
   "execution_count": 9,
   "id": "separate-differential",
   "metadata": {},
   "outputs": [],
   "source": [
    "df = pd.read_json('./app/result.json')"
   ]
  },
  {
   "cell_type": "code",
   "execution_count": 10,
   "id": "dynamic-reasoning",
   "metadata": {},
   "outputs": [
    {
     "data": {
      "text/html": [
       "<div>\n",
       "<style scoped>\n",
       "    .dataframe tbody tr th:only-of-type {\n",
       "        vertical-align: middle;\n",
       "    }\n",
       "\n",
       "    .dataframe tbody tr th {\n",
       "        vertical-align: top;\n",
       "    }\n",
       "\n",
       "    .dataframe thead th {\n",
       "        text-align: right;\n",
       "    }\n",
       "</style>\n",
       "<table border=\"1\" class=\"dataframe\">\n",
       "  <thead>\n",
       "    <tr style=\"text-align: right;\">\n",
       "      <th></th>\n",
       "      <th>title</th>\n",
       "      <th>author</th>\n",
       "      <th>ratings</th>\n",
       "      <th>genre</th>\n",
       "    </tr>\n",
       "  </thead>\n",
       "  <tbody>\n",
       "    <tr>\n",
       "      <th>0</th>\n",
       "      <td>Pride and Prejudice</td>\n",
       "      <td>Jane Austen</td>\n",
       "      <td>4.27</td>\n",
       "      <td>Classics</td>\n",
       "    </tr>\n",
       "    <tr>\n",
       "      <th>1</th>\n",
       "      <td>1984</td>\n",
       "      <td>George Orwell</td>\n",
       "      <td>4.19</td>\n",
       "      <td>Classics</td>\n",
       "    </tr>\n",
       "    <tr>\n",
       "      <th>2</th>\n",
       "      <td>The Great Gatsby</td>\n",
       "      <td>F. Scott Fitzgerald</td>\n",
       "      <td>3.93</td>\n",
       "      <td>Classics</td>\n",
       "    </tr>\n",
       "    <tr>\n",
       "      <th>3</th>\n",
       "      <td>Jane Eyre</td>\n",
       "      <td>Charlotte Brontë</td>\n",
       "      <td>4.13</td>\n",
       "      <td>Classics</td>\n",
       "    </tr>\n",
       "    <tr>\n",
       "      <th>4</th>\n",
       "      <td>Crime and Punishment</td>\n",
       "      <td>Fyodor Dostoyevsky</td>\n",
       "      <td>4.23</td>\n",
       "      <td>Classics</td>\n",
       "    </tr>\n",
       "  </tbody>\n",
       "</table>\n",
       "</div>"
      ],
      "text/plain": [
       "                  title               author  ratings     genre\n",
       "0   Pride and Prejudice          Jane Austen     4.27  Classics\n",
       "1                  1984        George Orwell     4.19  Classics\n",
       "2      The Great Gatsby  F. Scott Fitzgerald     3.93  Classics\n",
       "3             Jane Eyre     Charlotte Brontë     4.13  Classics\n",
       "4  Crime and Punishment   Fyodor Dostoyevsky     4.23  Classics"
      ]
     },
     "execution_count": 10,
     "metadata": {},
     "output_type": "execute_result"
    }
   ],
   "source": [
    "df.head()"
   ]
  },
  {
   "cell_type": "code",
   "execution_count": 4,
   "id": "unsigned-comedy",
   "metadata": {},
   "outputs": [],
   "source": [
    "def recommender(genre):\n",
    "    '''\n",
    "    Recommend top rated book from same genre.\n",
    "    If only single book from that genre -> return randomly from all-time top 10\n",
    "    \n",
    "    '''\n",
    "    \n",
    "    top = df[df['genre'] == genre].sort_values(by='ratings', ascending=False)\n",
    "    if top.shape[0] > 1:\n",
    "        return dict(top.iloc[0])\n",
    "    else:\n",
    "        return dict(df.sort_values(by='ratings', ascending=False).iloc[:10].sample(1).squeeze())"
   ]
  },
  {
   "cell_type": "code",
   "execution_count": 5,
   "id": "threatened-sterling",
   "metadata": {},
   "outputs": [
    {
     "data": {
      "text/plain": [
       "Classics      55\n",
       "Fiction       42\n",
       "Mystery        1\n",
       "Academic       1\n",
       "Historical     1\n",
       "Name: genre, dtype: int64"
      ]
     },
     "execution_count": 5,
     "metadata": {},
     "output_type": "execute_result"
    }
   ],
   "source": [
    "df['genre'].value_counts()\n"
   ]
  },
  {
   "cell_type": "code",
   "execution_count": 7,
   "id": "rotary-bottom",
   "metadata": {},
   "outputs": [
    {
     "data": {
      "text/plain": [
       "{'title': 'Ficciones',\n",
       " 'author': 'Jorge Luis Borges',\n",
       " 'ratings': 4.44,\n",
       " 'genre': 'Fiction'}"
      ]
     },
     "execution_count": 7,
     "metadata": {},
     "output_type": "execute_result"
    }
   ],
   "source": [
    "recommender('Fiction')"
   ]
  },
  {
   "cell_type": "code",
   "execution_count": 8,
   "id": "invalid-skill",
   "metadata": {},
   "outputs": [
    {
     "data": {
      "text/html": [
       "<div>\n",
       "<style scoped>\n",
       "    .dataframe tbody tr th:only-of-type {\n",
       "        vertical-align: middle;\n",
       "    }\n",
       "\n",
       "    .dataframe tbody tr th {\n",
       "        vertical-align: top;\n",
       "    }\n",
       "\n",
       "    .dataframe thead th {\n",
       "        text-align: right;\n",
       "    }\n",
       "</style>\n",
       "<table border=\"1\" class=\"dataframe\">\n",
       "  <thead>\n",
       "    <tr style=\"text-align: right;\">\n",
       "      <th></th>\n",
       "      <th>title</th>\n",
       "      <th>author</th>\n",
       "      <th>ratings</th>\n",
       "      <th>genre</th>\n",
       "    </tr>\n",
       "  </thead>\n",
       "  <tbody>\n",
       "    <tr>\n",
       "      <th>56</th>\n",
       "      <td>Ficciones</td>\n",
       "      <td>Jorge Luis Borges</td>\n",
       "      <td>4.44</td>\n",
       "      <td>Fiction</td>\n",
       "    </tr>\n",
       "    <tr>\n",
       "      <th>90</th>\n",
       "      <td>Life and Fate</td>\n",
       "      <td>Vasily Grossman</td>\n",
       "      <td>4.43</td>\n",
       "      <td>Fiction</td>\n",
       "    </tr>\n",
       "    <tr>\n",
       "      <th>23</th>\n",
       "      <td>East of Eden</td>\n",
       "      <td>John Steinbeck</td>\n",
       "      <td>4.38</td>\n",
       "      <td>Classics</td>\n",
       "    </tr>\n",
       "    <tr>\n",
       "      <th>51</th>\n",
       "      <td>In Search of Lost Time</td>\n",
       "      <td>Marcel Proust</td>\n",
       "      <td>4.35</td>\n",
       "      <td>Classics</td>\n",
       "    </tr>\n",
       "    <tr>\n",
       "      <th>13</th>\n",
       "      <td>The Brothers Karamazov</td>\n",
       "      <td>Fyodor Dostoyevsky</td>\n",
       "      <td>4.32</td>\n",
       "      <td>Classics</td>\n",
       "    </tr>\n",
       "    <tr>\n",
       "      <th>64</th>\n",
       "      <td>The Maltese Falcon, The Thin Man, Red Harvest</td>\n",
       "      <td>Dashiell Hammett</td>\n",
       "      <td>4.31</td>\n",
       "      <td>Mystery</td>\n",
       "    </tr>\n",
       "    <tr>\n",
       "      <th>93</th>\n",
       "      <td>JR</td>\n",
       "      <td>William Gaddis</td>\n",
       "      <td>4.30</td>\n",
       "      <td>Fiction</td>\n",
       "    </tr>\n",
       "    <tr>\n",
       "      <th>99</th>\n",
       "      <td>Darconville’s Cat</td>\n",
       "      <td>Alexander Theroux</td>\n",
       "      <td>4.29</td>\n",
       "      <td>Fiction</td>\n",
       "    </tr>\n",
       "    <tr>\n",
       "      <th>30</th>\n",
       "      <td>The Master and Margarita</td>\n",
       "      <td>Mikhail Bulgakov</td>\n",
       "      <td>4.29</td>\n",
       "      <td>Classics</td>\n",
       "    </tr>\n",
       "    <tr>\n",
       "      <th>57</th>\n",
       "      <td>To Kill a Mockingbird</td>\n",
       "      <td>Harper Lee</td>\n",
       "      <td>4.28</td>\n",
       "      <td>Classics</td>\n",
       "    </tr>\n",
       "  </tbody>\n",
       "</table>\n",
       "</div>"
      ],
      "text/plain": [
       "                                            title              author  \\\n",
       "56                                      Ficciones   Jorge Luis Borges   \n",
       "90                                  Life and Fate     Vasily Grossman   \n",
       "23                                   East of Eden      John Steinbeck   \n",
       "51                         In Search of Lost Time       Marcel Proust   \n",
       "13                         The Brothers Karamazov  Fyodor Dostoyevsky   \n",
       "64  The Maltese Falcon, The Thin Man, Red Harvest    Dashiell Hammett   \n",
       "93                                             JR      William Gaddis   \n",
       "99                              Darconville’s Cat   Alexander Theroux   \n",
       "30                       The Master and Margarita    Mikhail Bulgakov   \n",
       "57                          To Kill a Mockingbird          Harper Lee   \n",
       "\n",
       "    ratings     genre  \n",
       "56     4.44   Fiction  \n",
       "90     4.43   Fiction  \n",
       "23     4.38  Classics  \n",
       "51     4.35  Classics  \n",
       "13     4.32  Classics  \n",
       "64     4.31   Mystery  \n",
       "93     4.30   Fiction  \n",
       "99     4.29   Fiction  \n",
       "30     4.29  Classics  \n",
       "57     4.28  Classics  "
      ]
     },
     "execution_count": 8,
     "metadata": {},
     "output_type": "execute_result"
    }
   ],
   "source": [
    "df.sort_values(by='ratings', ascending=False).iloc[:10]\n"
   ]
  },
  {
   "cell_type": "code",
   "execution_count": null,
   "id": "pharmaceutical-exclusion",
   "metadata": {},
   "outputs": [],
   "source": []
  }
 ],
 "metadata": {
  "kernelspec": {
   "display_name": "Python 3",
   "language": "python",
   "name": "python3"
  },
  "language_info": {
   "codemirror_mode": {
    "name": "ipython",
    "version": 3
   },
   "file_extension": ".py",
   "mimetype": "text/x-python",
   "name": "python",
   "nbconvert_exporter": "python",
   "pygments_lexer": "ipython3",
   "version": "3.7.10"
  }
 },
 "nbformat": 4,
 "nbformat_minor": 5
}
